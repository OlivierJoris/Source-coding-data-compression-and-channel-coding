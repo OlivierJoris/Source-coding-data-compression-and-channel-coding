{
 "cells": [
  {
   "cell_type": "markdown",
   "metadata": {
    "deletable": false,
    "editable": false,
    "id": "j7kUOJkq0GUo"
   },
   "source": [
    "# Project 2 - Source coding, data compression and channel coding\n",
    "\n",
    "The goal of this second project is to apply some of the principles seen in the lectures about source coding, data compression and channel coding. We ask you to write a brief report (pdf format) collecting your answers to the different questions. All codes must be written in Python inside this Jupyter. Note that you can not change the content of locked cells or import any extra Python library than the ones already imported (numpy)."
   ]
  },
  {
   "cell_type": "markdown",
   "metadata": {
    "deletable": false,
    "editable": false,
    "id": "Ztp8uLg40GUt"
   },
   "source": [
    "## Implementation\n",
    "\n",
    "In this project, you will need to use implement source coding algorithms to answer several questions. Therefore, in this first part, you are asked to write several functions that implement two of the  algorithms seen in the theoretical lectures and one new algorithm described in the project statement. Remember that you need to fill in this Jupyter Notebook to answer these questions. Pay particular attention to the required input and output format of each function."
   ]
  },
  {
   "cell_type": "code",
   "execution_count": 3,
   "metadata": {
    "deletable": false,
    "editable": false,
    "id": "Hj-l1-GY0GUu"
   },
   "outputs": [],
   "source": [
    "# [Locked Cell] You can not import any extra Python library in this Notebook.\n",
    "import numpy as np"
   ]
  },
  {
   "cell_type": "markdown",
   "metadata": {
    "deletable": false,
    "editable": false,
    "id": "B8U7YQaO0GUv"
   },
   "source": [
    "### Question 1\n",
    "Implement a function that returns a binary Huffman code for a given probability distribution. Give the main steps of your implementation. Verify your code on Exercise 7 of the second exercise session (TP2), and report the output of your code for this example. Explain how to extend your function to generate a Huffman code of any (output) alphabet size. \n"
   ]
  },
  {
   "cell_type": "code",
   "execution_count": 25,
   "metadata": {
    "id": "Ale82t7g0GUw"
   },
   "outputs": [
    {
     "name": "stdout",
     "output_type": "stream",
     "text": [
      "Code word of the alphabet of the exercice 7 of the second exercise session (TP2): {'A': '000', 'B': '001', 'E': '01', 'C': '100', 'D': '101', 'F': '11'}\n"
     ]
    }
   ],
   "source": [
    "class Node:\n",
    "    \"\"\"\n",
    "    Node class for Huffman tree\n",
    "    \"\"\"\n",
    "    def __init__(self, probability, symbol, leftChild=None, rightChild=None):\n",
    "        self.probability = probability\n",
    "        self.leftChild = leftChild\n",
    "        self.rightChild = rightChild\n",
    "        self.symbol = symbol\n",
    "\n",
    "def get_codeword(node, codeword):\n",
    "    \"\"\"\n",
    "    Recursively get the codeword for each node in the Huffman tree\n",
    "    \n",
    "    Arguments:\n",
    "    ----------\n",
    "    node: root node of the Huffman tree\n",
    "    codeword: codeword already built (accumulator)\n",
    "    \n",
    "    Return:\n",
    "    -------\n",
    "    - codewords: dictionary with the name and the corresponding codeword \n",
    "      - keys: symbol as character or string\n",
    "      - values: associated codeword as a character or a string    \n",
    "      Example: {\"A\": \"10\", \"B\":\"0\",\"C\":\"111\",\"D\":\"110\"}\n",
    "    \n",
    "    \"\"\"\n",
    "    if node.leftChild is None and node.rightChild is None:\n",
    "        return {node.symbol: codeword}\n",
    "    else:\n",
    "        codeword_left = codeword + \"0\"\n",
    "        codeword_right = codeword + \"1\"\n",
    "        codewords = get_codeword(node.leftChild, codeword_left)\n",
    "        codewords.update(get_codeword(node.rightChild, codeword_right))\n",
    "        return codewords\n",
    "\n",
    "def Huffman_code(probability_dict):\n",
    "    \"\"\"\n",
    "    Create the Huffman code for given probabilities  \n",
    "    \n",
    "    Arguments:\n",
    "    ----------\n",
    "    probability_dict:\n",
    "      - keys: symbol as character or string\n",
    "      - values: probability of the symbol as a float or double\n",
    "      Example: {\"A\": 0.25, \"B\":0.5,\"C\":0.125,\"D\":0.125}\n",
    "    \n",
    "    Return:\n",
    "    -------\n",
    "    - codewords: dictionary with the name and the corresponding codeword \n",
    "      - keys: symbol as character or string\n",
    "      - values: associated codeword as a character or a string    \n",
    "      Example: {\"A\": \"10\", \"B\":\"0\",\"C\":\"111\",\"D\":\"110\"}\n",
    "    \n",
    "    \"\"\" \n",
    "    # Create the nodes of the tree from the probabilities\n",
    "    nodes = []\n",
    "    for symbol, probability in probability_dict.items():\n",
    "        nodes.append(Node(probability, symbol))\n",
    "\n",
    "    # Sort the list of Node objects by probability\n",
    "    nodes.sort(key=lambda x: x.probability)\n",
    "\n",
    "    # Create the Huffman tree\n",
    "    while len(nodes) > 1:\n",
    "        left = nodes.pop(0)\n",
    "        right = nodes.pop(0)\n",
    "        parent = Node(left.probability + right.probability, None, left, right)\n",
    "        nodes.append(parent)\n",
    "        nodes.sort(key=lambda x: x.probability)\n",
    "\n",
    "    # Get the codewords on the root of the tree\n",
    "    codewords = get_codeword(nodes[0], \"\")\n",
    "    return codewords\n",
    "\n",
    "# Verification on the exerice 7 of the second exercise session (TP2)\n",
    "print(\"Code word of the alphabet of the exercice 7 of the second exercise session (TP2): {}\".format(Huffman_code({\"A\": 0.05, \"B\":0.1,\"C\":0.15,\"D\":0.15, \"E\":0.2, \"F\":0.35})))"
   ]
  },
  {
   "cell_type": "markdown",
   "metadata": {
    "deletable": false,
    "editable": false,
    "id": "_KjzF5nZ0GUw"
   },
   "source": [
    "### Question 2\n",
    "\n",
    "Given a sequence of symbols, implement a function that returns a dictionary and the encoded sequence using the on-line Lempel-Ziv algorithm (see State of the art in data compression, slide 50/53). Reproduce and report the example given in the course. "
   ]
  },
  {
   "cell_type": "code",
   "execution_count": 51,
   "metadata": {
    "id": "dxyFyrmh0GUx"
   },
   "outputs": [
    {
     "name": "stdout",
     "output_type": "stream",
     "text": [
      ": ({'': (0, ''), '1': (1, '1'), '0': (2, '00'), '11': (3, '011'), '01': (4, '101'), '010': (5, '1000'), '00': (6, '0100'), '10': (7, '0010')}, '100011101100001000010')\n"
     ]
    }
   ],
   "source": [
    "def get_least_significant_bit(number, bitNumber):\n",
    "    \"\"\"\n",
    "    Get the least significant bit of a number and convert it to a binary string with bitNumber digits\n",
    "    Example: get_least_significant_bit(1011, 2) -> \"01\"\n",
    "    \"\"\"\n",
    "    bit = number[-1]\n",
    "    return \"0\" * (bitNumber - 1) + bit\n",
    "\n",
    "def get_first_bits(number):\n",
    "    \"\"\"\n",
    "    Get the all except the last bit of a binary number represented as a string\n",
    "    Example: get_first_bits('101') -> '10'\n",
    "    \"\"\"\n",
    "    return number[0:len(number)-1]\n",
    "\n",
    "def get_binary_representation(number, bitNumber):\n",
    "    \"\"\"\n",
    "    Get the binary representation of a number\n",
    "    Example: get_binary_representation(5, 4) -> '0101'\n",
    "    \"\"\"\n",
    "    return bin(number)[2:].zfill(bitNumber)\n",
    "\n",
    "def LZ_online(sequence):\n",
    "    \"\"\"\n",
    "    The on-line Lempel-Ziv algorithm given a sequence of symbols  \n",
    "    Arguments:\n",
    "    ----------\n",
    "    - sequence : Sequence of symbols in the string format\n",
    "    \n",
    "    Return:\n",
    "    -------\n",
    "    - dictionary : the computed dictionnary in the form:\n",
    "        - keys: symbol as character or string\n",
    "        - values: associated codeword as a tuple composed of the entry index (integer) and a binarized address with one appended symbol (character or string)\n",
    "        Example: {'': (0, ''), '0': (1, '0'), '1': (2, '01'), '00': (3, '010'), '10': (4, '100')}\n",
    "    - encoded_sequence : the encoded sequence in the string format\n",
    "    \"\"\"\n",
    "    # Initialization of the dictionary\n",
    "    dictionnary = {}\n",
    "    dictionnary[''] = (0, '')\n",
    "\n",
    "    prefix = ''\n",
    "    position = 1\n",
    "\n",
    "    encoded_sequence = ''\n",
    "    # Build the dictionary and encode the sequence\n",
    "    for symbol in sequence:\n",
    "        if prefix + symbol not in dictionnary:\n",
    "            bitNumber = int(np.ceil(np.log2(len(dictionnary))) + 1)\n",
    "            if len(prefix + symbol) == 1:\n",
    "                dictionnary[prefix + symbol] = (position, get_least_significant_bit(prefix + symbol, bitNumber))\n",
    "            else: \n",
    "                dictionnary[prefix + symbol] = (position, get_binary_representation(dictionnary[get_first_bits(prefix + symbol)][0], bitNumber - 1) + get_least_significant_bit(prefix + symbol, 1))\n",
    "            encoded_sequence += dictionnary[prefix + symbol][1]\n",
    "            prefix = ''\n",
    "            position += 1\n",
    "        else:\n",
    "            prefix += symbol\n",
    "\n",
    "    return dictionnary, encoded_sequence\n",
    "\n",
    "print(\"Encoding of example given in the course State of the art in data compression, slide 50/53: {}\".format(LZ_online(\"1011010100010\")))"
   ]
  },
  {
   "cell_type": "markdown",
   "metadata": {
    "deletable": false,
    "editable": false,
    "id": "UG7cwbf50GUx"
   },
   "source": [
    "### Question 4\n",
    "\n",
    "Implement a function that returns the encoded sequence using the LZ77 algorithm as described by the algorithm below given an input string and a sliding window size l. Reproduce the example given in Figure 2 with window_size=7."
   ]
  },
  {
   "cell_type": "code",
   "execution_count": null,
   "metadata": {
    "id": "aHoBHPcL0GUy"
   },
   "outputs": [],
   "source": [
    "def LZ77(sequence, window_size=7):\n",
    "    \"\"\"\n",
    "    The Lempel-Ziv 77 algorithm given a sequence of symbols and the sliding window size\n",
    "    \n",
    "    Arguments:\n",
    "    ----------\n",
    "    - sequence : Sequence of symbols in the string format\n",
    "    - window_size : sliding window size as an integer\n",
    "    \n",
    "    Return:\n",
    "    -------\n",
    "    - encoded_sequence : the encoded sequence in the string format\n",
    "    \"\"\""
   ]
  },
  {
   "cell_type": "code",
   "execution_count": null,
   "metadata": {
    "deletable": false,
    "editable": false,
    "id": "EG1vVgUg0GUz"
   },
   "outputs": [],
   "source": [
    "# [Locked Cell] Evaluation of your functions by the examiner. \n",
    "# You don't have access to the evaluation, this will be done by the examiner.\n",
    "# Therefore, this cell will return nothing for the students.\n",
    "import os\n",
    "if os.path.isfile(\"private_evaluation.py\"):\n",
    "    from private_evaluation import unit_tests\n",
    "    unit_tests(Huffman_code, LZ_online, LZ77)"
   ]
  },
  {
   "cell_type": "markdown",
   "metadata": {
    "deletable": false,
    "editable": false,
    "id": "znaBCYTG0GU0"
   },
   "source": [
    "## Source coding and reversible (lossless) data compression\n"
   ]
  },
  {
   "cell_type": "code",
   "execution_count": null,
   "metadata": {
    "id": "-F_fTEp10GU0"
   },
   "outputs": [],
   "source": [
    "# Write here your codes for questions 5 to 15 (you may delete this comment)"
   ]
  },
  {
   "cell_type": "markdown",
   "metadata": {
    "id": "arr1rcE65c6K"
   },
   "source": [
    "## Channel coding"
   ]
  },
  {
   "cell_type": "code",
   "execution_count": null,
   "metadata": {
    "id": "ZLwLdqlh5qE5"
   },
   "outputs": [],
   "source": [
    "# Write here your codes for questions 16 to 21 (you may delete this comment)\n",
    "# From here, you may import either opencv (cv2) or the Python Imaging Library (PIL), but no other extra libraries."
   ]
  }
 ],
 "metadata": {
  "celltoolbar": "Edit Metadata",
  "colab": {
   "collapsed_sections": [],
   "name": "P2 - Notebook.ipynb",
   "provenance": []
  },
  "kernelspec": {
   "display_name": "Python 3",
   "language": "python",
   "name": "python3"
  },
  "language_info": {
   "codemirror_mode": {
    "name": "ipython",
    "version": 3
   },
   "file_extension": ".py",
   "mimetype": "text/x-python",
   "name": "python",
   "nbconvert_exporter": "python",
   "pygments_lexer": "ipython3",
   "version": "3.9.6"
  }
 },
 "nbformat": 4,
 "nbformat_minor": 1
}
