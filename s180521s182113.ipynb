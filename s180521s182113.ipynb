{
 "cells": [
  {
   "cell_type": "markdown",
   "metadata": {
    "deletable": false,
    "editable": false,
    "id": "j7kUOJkq0GUo"
   },
   "source": [
    "# Project 2 - Source coding, data compression and channel coding\n",
    "\n",
    "The goal of this second project is to apply some of the principles seen in the lectures about source coding, data compression and channel coding. We ask you to write a brief report (pdf format) collecting your answers to the different questions. All codes must be written in Python inside this Jupyter. Note that you can not change the content of locked cells or import any extra Python library than the ones already imported (numpy)."
   ]
  },
  {
   "cell_type": "markdown",
   "metadata": {
    "deletable": false,
    "editable": false,
    "id": "Ztp8uLg40GUt"
   },
   "source": [
    "## Implementation\n",
    "\n",
    "In this project, you will need to use implement source coding algorithms to answer several questions. Therefore, in this first part, you are asked to write several functions that implement two of the  algorithms seen in the theoretical lectures and one new algorithm described in the project statement. Remember that you need to fill in this Jupyter Notebook to answer these questions. Pay particular attention to the required input and output format of each function."
   ]
  },
  {
   "cell_type": "code",
   "execution_count": 1,
   "metadata": {
    "deletable": false,
    "editable": false,
    "id": "Hj-l1-GY0GUu"
   },
   "outputs": [],
   "source": [
    "# [Locked Cell] You can not import any extra Python library in this Notebook.\n",
    "import numpy as np"
   ]
  },
  {
   "cell_type": "markdown",
   "metadata": {
    "deletable": false,
    "editable": false,
    "id": "B8U7YQaO0GUv"
   },
   "source": [
    "### Question 1\n",
    "Implement a function that returns a binary Huffman code for a given probability distribution. Give the main steps of your implementation. Verify your code on Exercise 7 of the second exercise session (TP2), and report the output of your code for this example. Explain how to extend your function to generate a Huffman code of any (output) alphabet size. \n"
   ]
  },
  {
   "cell_type": "code",
   "execution_count": 2,
   "metadata": {
    "id": "Ale82t7g0GUw"
   },
   "outputs": [],
   "source": [
    "class Node:\n",
    "    \"\"\"\n",
    "    Node class for Huffman tree\n",
    "    \"\"\"\n",
    "    def __init__(self, probability, symbol, leftChild=None, rightChild=None):\n",
    "        self.probability = probability\n",
    "        self.leftChild = leftChild\n",
    "        self.rightChild = rightChild\n",
    "        self.symbol = symbol\n",
    "\n",
    "def get_codeword(node, codeword):\n",
    "    \"\"\"\n",
    "    Recursively get the codeword for each node in the Huffman tree\n",
    "    \n",
    "    Arguments:\n",
    "    ----------\n",
    "    node: root node of the Huffman tree\n",
    "    codeword: codeword already built (accumulator)\n",
    "    \n",
    "    Return:\n",
    "    -------\n",
    "    - codewords: dictionary with the name and the corresponding codeword \n",
    "      - keys: symbol as character or string\n",
    "      - values: associated codeword as a character or a string    \n",
    "      Example: {\"A\": \"10\", \"B\":\"0\",\"C\":\"111\",\"D\":\"110\"}\n",
    "    \n",
    "    \"\"\"\n",
    "    if node.leftChild is None and node.rightChild is None:\n",
    "        return {node.symbol: codeword}\n",
    "    else:\n",
    "        codeword_left = codeword + \"0\"\n",
    "        codeword_right = codeword + \"1\"\n",
    "        codewords = get_codeword(node.leftChild, codeword_left)\n",
    "        codewords.update(get_codeword(node.rightChild, codeword_right))\n",
    "        return codewords\n",
    "\n",
    "def Huffman_code(probability_dict):\n",
    "    \"\"\"\n",
    "    Create the Huffman code for given probabilities  \n",
    "    \n",
    "    Arguments:\n",
    "    ----------\n",
    "    probability_dict:\n",
    "      - keys: symbol as character or string\n",
    "      - values: probability of the symbol as a float or double\n",
    "      Example: {\"A\": 0.25, \"B\":0.5,\"C\":0.125,\"D\":0.125}\n",
    "    \n",
    "    Return:\n",
    "    -------\n",
    "    - codewords: dictionary with the name and the corresponding codeword \n",
    "      - keys: symbol as character or string\n",
    "      - values: associated codeword as a character or a string    \n",
    "      Example: {\"A\": \"10\", \"B\":\"0\",\"C\":\"111\",\"D\":\"110\"}\n",
    "    \n",
    "    \"\"\" \n",
    "    # Create the nodes of the tree from the probabilities\n",
    "    nodes = []\n",
    "    for symbol, probability in probability_dict.items():\n",
    "        nodes.append(Node(probability, symbol))\n",
    "\n",
    "    # Sort the list of Node objects by probability\n",
    "    nodes.sort(key=lambda x: x.probability)\n",
    "\n",
    "    # Create the Huffman tree\n",
    "    while len(nodes) > 1:\n",
    "        left = nodes.pop(0)\n",
    "        right = nodes.pop(0)\n",
    "        parent = Node(left.probability + right.probability, None, left, right)\n",
    "        nodes.append(parent)\n",
    "        nodes.sort(key=lambda x: x.probability)\n",
    "\n",
    "    # Get the codewords on the root of the tree\n",
    "    codewords = get_codeword(nodes[0], \"\")\n",
    "    return codewords"
   ]
  },
  {
   "cell_type": "markdown",
   "metadata": {
    "deletable": false,
    "editable": false,
    "id": "_KjzF5nZ0GUw"
   },
   "source": [
    "### Question 2\n",
    "\n",
    "Given a sequence of symbols, implement a function that returns a dictionary and the encoded sequence using the on-line Lempel-Ziv algorithm (see State of the art in data compression, slide 50/53). Reproduce and report the example given in the course. "
   ]
  },
  {
   "cell_type": "code",
   "execution_count": null,
   "metadata": {
    "id": "dxyFyrmh0GUx"
   },
   "outputs": [],
   "source": [
    "\n",
    "def LZ_online(sequence):\n",
    "    \"\"\"\n",
    "    The on-line Lempel-Ziv algorithm given a sequence of symbols  \n",
    "    Arguments:\n",
    "    ----------\n",
    "    - sequence : Sequence of symbols in the string format\n",
    "    \n",
    "    Return:\n",
    "    -------\n",
    "    - dictionary : the computed dictionnary in the form:\n",
    "        - keys: symbol as character or string\n",
    "        - values: associated codeword as a tuple composed of the entry index (integer) and a binarized adress with one appended symbol (character or string)\n",
    "        Example: {'': (0, ''), '0': (1, '0'), '1': (2, '01'), '00': (3, '010'), '10': (4, '100')}\n",
    "    - encoded_sequence : the encoded sequence in the string format\n",
    "    \"\"\""
   ]
  },
  {
   "cell_type": "markdown",
   "metadata": {
    "deletable": false,
    "editable": false,
    "id": "UG7cwbf50GUx"
   },
   "source": [
    "### Question 4\n",
    "\n",
    "Implement a function that returns the encoded sequence using the LZ77 algorithm as described by the algorithm below given an input string and a sliding window size l. Reproduce the example given in Figure 2 with window_size=7."
   ]
  },
  {
   "cell_type": "code",
   "execution_count": null,
   "metadata": {
    "id": "aHoBHPcL0GUy"
   },
   "outputs": [],
   "source": [
    "def LZ77(sequence, window_size=7):\n",
    "    \"\"\"\n",
    "    The Lempel-Ziv 77 algorithm given a sequence of symbols and the sliding window size\n",
    "    \n",
    "    Arguments:\n",
    "    ----------\n",
    "    - sequence : Sequence of symbols in the string format\n",
    "    - window_size : sliding window size as an integer\n",
    "    \n",
    "    Return:\n",
    "    -------\n",
    "    - encoded_sequence : the encoded sequence in the string format\n",
    "    \"\"\""
   ]
  },
  {
   "cell_type": "code",
   "execution_count": null,
   "metadata": {
    "deletable": false,
    "editable": false,
    "id": "EG1vVgUg0GUz"
   },
   "outputs": [],
   "source": [
    "# [Locked Cell] Evaluation of your functions by the examiner. \n",
    "# You don't have access to the evaluation, this will be done by the examiner.\n",
    "# Therefore, this cell will return nothing for the students.\n",
    "import os\n",
    "if os.path.isfile(\"private_evaluation.py\"):\n",
    "    from private_evaluation import unit_tests\n",
    "    unit_tests(Huffman_code, LZ_online, LZ77)"
   ]
  },
  {
   "cell_type": "markdown",
   "metadata": {
    "deletable": false,
    "editable": false,
    "id": "znaBCYTG0GU0"
   },
   "source": [
    "## Source coding and reversible (lossless) data compression\n"
   ]
  },
  {
   "cell_type": "code",
   "execution_count": 3,
   "metadata": {},
   "outputs": [
    {
     "name": "stdout",
     "output_type": "stream",
     "text": [
      "Length of Morse text = 1199290 symbols\n",
      "Length of text = 412310 symbols\n"
     ]
    }
   ],
   "source": [
    "# Read Morse file\n",
    "morseFile = open(\"data/morse.txt\", \"r\")\n",
    "morseText = morseFile.read()\n",
    "morseFile.close()\n",
    "print(\"Length of Morse text = \" + str(len(morseText)) + \" symbols\")\n",
    "\n",
    "# Read text file\n",
    "textFile = open(\"data/text.txt\", \"r\")\n",
    "text = textFile.read()\n",
    "textFile.close()\n",
    "print(\"Length of text = \" + str(len(text)) + \" symbols\")"
   ]
  },
  {
   "cell_type": "markdown",
   "metadata": {},
   "source": [
    "### Question 5"
   ]
  },
  {
   "cell_type": "code",
   "execution_count": 5,
   "metadata": {},
   "outputs": [
    {
     "name": "stdout",
     "output_type": "stream",
     "text": [
      "Probabilities: {'.': 0.43378082031868853, '_': 0.2145202578192097, '-': 0.2870623452209224, '/': 0.06463657664117936}\n",
      "Huffman code: {'.': '0', '/': '100', '_': '101', '-': '11'}\n",
      "Length of encoded morse text = 2213141 bits\n",
      "Length of morse text = 4797160 bits\n",
      "Compression rate = 2.1675799237373488\n"
     ]
    }
   ],
   "source": [
    "# Compute marginal probability distribution\n",
    "probas = {}\n",
    "for symbol in morseText:\n",
    "    symb = probas.get(symbol)\n",
    "    if symb == None:\n",
    "        probas[symbol] = 1\n",
    "    else:\n",
    "        probas[symbol] = symb + 1\n",
    "for key in probas.keys():\n",
    "    probas[key]/=len(morseText)\n",
    "\n",
    "print(\"Probabilities: \", end=\"\")\n",
    "print(probas)\n",
    "\n",
    "# Binary Huffman code\n",
    "binHuffmanCode = Huffman_code(probas)\n",
    "print(\"Huffman code: \", end=\"\")\n",
    "print(binHuffmanCode)\n",
    "\n",
    "# Encode text with Huffman code\n",
    "encodedMorseText = \"\"\n",
    "for symbol in morseText:\n",
    "    encodedMorseText+=binHuffmanCode[symbol]\n",
    "#print(encodedMorseText)\n",
    "\n",
    "# Total length of encoded Morse text\n",
    "print(\"Length of encoded morse text = \" + str(len(encodedMorseText)) + \" bits\")\n",
    "print(\"Length of morse text = \" + str(len(morseText)*4) + \" bits\") # *4 because 4 different symbols\n",
    "\n",
    "# Compression rate\n",
    "compressionRate = (len(morseText)*4)/len(encodedMorseText)\n",
    "print(\"Compression rate = \" + str(compressionRate))"
   ]
  },
  {
   "cell_type": "markdown",
   "metadata": {},
   "source": [
    "### Question 6"
   ]
  },
  {
   "cell_type": "code",
   "execution_count": 11,
   "metadata": {},
   "outputs": [
    {
     "name": "stdout",
     "output_type": "stream",
     "text": [
      "Expected average length of Huffman code = 1.8453760141417006\n",
      "Emperical average length of Huffman code = 1.8453760141417006\n",
      "H(S)/log2(q) = 1.7713848706432271\n",
      "(H(S)/log2(q)) + 1 = 2.771384870643227\n"
     ]
    }
   ],
   "source": [
    "# Expected average length of Huffman code\n",
    "avgLengthHuffman = 0.0\n",
    "for key in probas.keys():\n",
    "    avgLengthHuffman+=probas[key]*len(binHuffmanCode[key])\n",
    "print(\"Expected average length of Huffman code = \" + str(avgLengthHuffman))\n",
    "\n",
    "# Emperical = ratio length encoded and length initial\n",
    "emperical = len(encodedMorseText) / len(morseText)\n",
    "print(\"Emperical average length of Huffman code = \" + str(emperical))\n",
    "\n",
    "# Entropy\n",
    "entropy = 0.0\n",
    "for key in probas.keys():\n",
    "    entropy+=probas[key]*np.log2(probas[key])\n",
    "\n",
    "print(\"H(S)/log2(q) = \" + str(-entropy)) # log2(2) = 1\n",
    "print(\"(H(S)/log2(q)) + 1 = \" + str(-entropy+1))"
   ]
  },
  {
   "cell_type": "markdown",
   "metadata": {},
   "source": [
    "### Question 7"
   ]
  },
  {
   "cell_type": "code",
   "execution_count": 47,
   "metadata": {},
   "outputs": [
    {
     "name": "stdout",
     "output_type": "stream",
     "text": [
      "{1: 1.8453760141417006, 2: 1.709244636409876, 5: 1.5083299285410534, 10: 1.245440218796121, 119929: 2.8350107146728482e-05, 239858: 1.0005920169433581e-05, 599645: 1.6676533615722636e-06}\n"
     ]
    }
   ],
   "source": [
    "# Compute data\n",
    "codes = {}\n",
    "empericalAverages = {}\n",
    "for inputLength in range(1, len(morseText)):\n",
    "    if len(morseText) % inputLength == 0:\n",
    "        indexStart = 0\n",
    "        indexEnd = inputLength - 1\n",
    "        nbBlocks = 0.0\n",
    "        probas = {}\n",
    "        while indexEnd < len(morseText):\n",
    "            subText = morseText[indexStart : indexEnd+1]\n",
    "            symb = probas.get(subText)\n",
    "            if symb == None:\n",
    "                probas[subText] = 1\n",
    "            else:\n",
    "                probas[subText] = symb + 1\n",
    "            nbBlocks+=1.0\n",
    "            indexStart += inputLength\n",
    "            indexEnd += inputLength\n",
    "        for key in probas.keys():\n",
    "            probas[key]/=nbBlocks\n",
    "        codes[inputLength] = Huffman_code(probas)\n",
    "        \n",
    "        encodedMorseText = \"\"\n",
    "        indexStart = 0\n",
    "        indexEnd = inputLength - 1\n",
    "        while indexEnd < len(morseText):\n",
    "            encodedMorseText+=codes[inputLength][morseText[indexStart : indexEnd+1]]\n",
    "            indexStart += inputLength\n",
    "            indexEnd += inputLength\n",
    "        empericalAverages[inputLength] = len(encodedMorseText) / len(morseText)\n",
    "print(empericalAverages)"
   ]
  },
  {
   "cell_type": "markdown",
   "metadata": {
    "id": "arr1rcE65c6K"
   },
   "source": [
    "## Channel coding"
   ]
  },
  {
   "cell_type": "code",
   "execution_count": null,
   "metadata": {
    "id": "ZLwLdqlh5qE5"
   },
   "outputs": [],
   "source": [
    "# Write here your codes for questions 16 to 21 (you may delete this comment)\n",
    "# From here, you may import either opencv (cv2) or the Python Imaging Library (PIL), but no other extra libraries."
   ]
  }
 ],
 "metadata": {
  "celltoolbar": "Edit Metadata",
  "colab": {
   "collapsed_sections": [],
   "name": "P2 - Notebook.ipynb",
   "provenance": []
  },
  "kernelspec": {
   "display_name": "Python 3 (ipykernel)",
   "language": "python",
   "name": "python3"
  },
  "language_info": {
   "codemirror_mode": {
    "name": "ipython",
    "version": 3
   },
   "file_extension": ".py",
   "mimetype": "text/x-python",
   "name": "python",
   "nbconvert_exporter": "python",
   "pygments_lexer": "ipython3",
   "version": "3.9.7"
  }
 },
 "nbformat": 4,
 "nbformat_minor": 4
}
