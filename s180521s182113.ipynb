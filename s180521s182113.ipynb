{
 "cells": [
  {
   "cell_type": "markdown",
   "metadata": {
    "deletable": false,
    "editable": false,
    "id": "j7kUOJkq0GUo"
   },
   "source": [
    "# Project 2 - Source coding, data compression and channel coding\n",
    "\n",
    "The goal of this second project is to apply some of the principles seen in the lectures about source coding, data compression and channel coding. We ask you to write a brief report (pdf format) collecting your answers to the different questions. All codes must be written in Python inside this Jupyter. Note that you can not change the content of locked cells or import any extra Python library than the ones already imported (numpy)."
   ]
  },
  {
   "cell_type": "markdown",
   "metadata": {
    "deletable": false,
    "editable": false,
    "id": "Ztp8uLg40GUt"
   },
   "source": [
    "## Implementation\n",
    "\n",
    "In this project, you will need to use implement source coding algorithms to answer several questions. Therefore, in this first part, you are asked to write several functions that implement two of the  algorithms seen in the theoretical lectures and one new algorithm described in the project statement. Remember that you need to fill in this Jupyter Notebook to answer these questions. Pay particular attention to the required input and output format of each function."
   ]
  },
  {
   "cell_type": "code",
   "execution_count": 2,
   "metadata": {
    "deletable": false,
    "editable": false,
    "id": "Hj-l1-GY0GUu"
   },
   "outputs": [],
   "source": [
    "# [Locked Cell] You can not import any extra Python library in this Notebook.\n",
    "import numpy as np"
   ]
  },
  {
   "cell_type": "markdown",
   "metadata": {
    "deletable": false,
    "editable": false,
    "id": "B8U7YQaO0GUv"
   },
   "source": [
    "### Question 1\n",
    "Implement a function that returns a binary Huffman code for a given probability distribution. Give the main steps of your implementation. Verify your code on Exercise 7 of the second exercise session (TP2), and report the output of your code for this example. Explain how to extend your function to generate a Huffman code of any (output) alphabet size. \n"
   ]
  },
  {
   "cell_type": "code",
   "execution_count": 3,
   "metadata": {
    "id": "Ale82t7g0GUw"
   },
   "outputs": [
    {
     "name": "stdout",
     "output_type": "stream",
     "text": [
      "Code word of the alphabet of the exercise 7 of the second exercise session (TP2): {'A': '000', 'B': '001', 'E': '01', 'C': '100', 'D': '101', 'F': '11'}\n"
     ]
    }
   ],
   "source": [
    "class Node:\n",
    "    \"\"\"\n",
    "    Node class for Huffman tree\n",
    "    \"\"\"\n",
    "    def __init__(self, probability, symbol, left_child=None, right_child=None):\n",
    "        self.probability = probability\n",
    "        self.left_child = left_child\n",
    "        self.right_child = right_child\n",
    "        self.symbol = symbol\n",
    "\n",
    "def get_codeword(node, codeword):\n",
    "    \"\"\"\n",
    "    Recursively get the codeword for each node in the Huffman tree\n",
    "    \n",
    "    Arguments:\n",
    "    ----------\n",
    "    node: root node of the Huffman tree\n",
    "    codeword: codeword already built (accumulator)\n",
    "    \n",
    "    Return:\n",
    "    -------\n",
    "    - codewords: dictionary with the name and the corresponding codeword \n",
    "      - keys: symbol as character or string\n",
    "      - values: associated codeword as a character or a string    \n",
    "      Example: {\"A\": \"10\", \"B\":\"0\",\"C\":\"111\",\"D\":\"110\"}\n",
    "    \n",
    "    \"\"\"\n",
    "    if node.left_child is None and node.right_child is None:\n",
    "        return {node.symbol: codeword}\n",
    "    else:\n",
    "        codeword_left = codeword + \"0\"\n",
    "        codeword_right = codeword + \"1\"\n",
    "        codewords = get_codeword(node.left_child, codeword_left)\n",
    "        codewords.update(get_codeword(node.right_child, codeword_right))\n",
    "        return codewords\n",
    "\n",
    "def Huffman_code(probability_dict):\n",
    "    \"\"\"\n",
    "    Create the Huffman code for given probabilities  \n",
    "    \n",
    "    Arguments:\n",
    "    ----------\n",
    "    probability_dict:\n",
    "      - keys: symbol as character or string\n",
    "      - values: probability of the symbol as a float or double\n",
    "      Example: {\"A\": 0.25, \"B\":0.5,\"C\":0.125,\"D\":0.125}\n",
    "    \n",
    "    Return:\n",
    "    -------\n",
    "    - codewords: dictionary with the name and the corresponding codeword \n",
    "      - keys: symbol as character or string\n",
    "      - values: associated codeword as a character or a string    \n",
    "      Example: {\"A\": \"10\", \"B\":\"0\",\"C\":\"111\",\"D\":\"110\"}\n",
    "    \n",
    "    \"\"\" \n",
    "    # Create the nodes of the tree from the probabilities\n",
    "    nodes = []\n",
    "    for symbol, probability in probability_dict.items():\n",
    "        nodes.append(Node(probability, symbol))\n",
    "\n",
    "    # Sort the list of Node objects by probability\n",
    "    nodes.sort(key=lambda x: x.probability)\n",
    "\n",
    "    # Create the Huffman tree\n",
    "    while len(nodes) > 1:\n",
    "        left = nodes.pop(0)\n",
    "        right = nodes.pop(0)\n",
    "        parent = Node(left.probability + right.probability, None, left, right)\n",
    "        nodes.append(parent)\n",
    "        nodes.sort(key=lambda x: x.probability)\n",
    "\n",
    "    # Get the codewords on the root of the tree\n",
    "    codewords = get_codeword(nodes[0], \"\")\n",
    "    return codewords\n",
    "\n",
    "# Verification on the exerice 7 of the second exercise session (TP2)\n",
    "print(\"Code word of the alphabet of the exercise 7 of the second exercise session (TP2): {}\".format(Huffman_code({\"A\": 0.05, \"B\":0.1,\"C\":0.15,\"D\":0.15, \"E\":0.2, \"F\":0.35})))"
   ]
  },
  {
   "cell_type": "markdown",
   "metadata": {
    "deletable": false,
    "editable": false,
    "id": "_KjzF5nZ0GUw"
   },
   "source": [
    "### Question 2\n",
    "\n",
    "Given a sequence of symbols, implement a function that returns a dictionary and the encoded sequence using the on-line Lempel-Ziv algorithm (see State of the art in data compression, slide 50/53). Reproduce and report the example given in the course. "
   ]
  },
  {
   "cell_type": "code",
   "execution_count": 4,
   "metadata": {
    "id": "dxyFyrmh0GUx"
   },
   "outputs": [
    {
     "name": "stdout",
     "output_type": "stream",
     "text": [
      "Encoding of example given in the course State of the art in data compression, slide 50/53:\n",
      "Initial sequence: 1011010100010\n",
      "Dictionnary: {'': (0, ''), '1': (1, '1'), '0': (2, '00'), '11': (3, '011'), '01': (4, '101'), '010': (5, '1000'), '00': (6, '0100'), '10': (7, '0010')}\n",
      "Encoded sequence: 100011101100001000010\n"
     ]
    }
   ],
   "source": [
    "def get_least_significant_bit(number, bit_number):\n",
    "    \"\"\"\n",
    "    Get the least significant bit of a number and convert it to a binary string with bit_number digits\n",
    "    Example: get_least_significant_bit(1011, 2) -> \"01\"\n",
    "    \"\"\"\n",
    "    bit = number[-1]\n",
    "    return \"0\" * (bit_number - 1) + bit\n",
    "\n",
    "def get_first_bits(number):\n",
    "    \"\"\"\n",
    "    Get the all except the last bit of a binary number represented as a string\n",
    "    Example: get_first_bits('101') -> '10'\n",
    "    \"\"\"\n",
    "    return number[0:len(number)-1]\n",
    "\n",
    "def get_binary_representation(number, bit_number):\n",
    "    \"\"\"\n",
    "    Get the binary representation of a number\n",
    "    Example: get_binary_representation(5, 4) -> '0101'\n",
    "    \"\"\"\n",
    "    return bin(number)[2:].zfill(bit_number)\n",
    "\n",
    "def LZ_online(sequence):\n",
    "    \"\"\"\n",
    "    The on-line Lempel-Ziv algorithm given a sequence of symbols  \n",
    "    Arguments:\n",
    "    ----------\n",
    "    - sequence : Sequence of symbols in the string format\n",
    "    \n",
    "    Return:\n",
    "    -------\n",
    "    - dictionary : the computed dictionnary in the form:\n",
    "        - keys: symbol as character or string\n",
    "        - values: associated codeword as a tuple composed of the entry index (integer) and a binarized address with one appended symbol (character or string)\n",
    "        Example: {'': (0, ''), '0': (1, '0'), '1': (2, '01'), '00': (3, '010'), '10': (4, '100')}\n",
    "    - encoded_sequence : the encoded sequence in the string format\n",
    "    \"\"\"\n",
    "    # Initialization of the dictionary\n",
    "    dictionnary = {}\n",
    "    dictionnary[''] = (0, '')\n",
    "\n",
    "    prefix = ''\n",
    "    position = 1\n",
    "\n",
    "    encoded_sequence = ''\n",
    "    # Build the dictionary and encode the sequence\n",
    "    for symbol in sequence:\n",
    "        if prefix + symbol not in dictionnary:\n",
    "            # Get the 'on-line' necessary number of bits \n",
    "            bit_number = int(np.ceil(np.log2(len(dictionnary))) + 1)\n",
    "            if len(prefix + symbol) == 1:\n",
    "                dictionnary[prefix + symbol] = (position, get_least_significant_bit(prefix + symbol, bit_number))\n",
    "            else: \n",
    "                dictionnary[prefix + symbol] = (position, get_binary_representation(dictionnary[get_first_bits(prefix + symbol)][0], bit_number - 1) + get_least_significant_bit(prefix + symbol, 1))\n",
    "            encoded_sequence += dictionnary[prefix + symbol][1]\n",
    "            prefix = ''\n",
    "            position += 1\n",
    "        else:\n",
    "            prefix += symbol\n",
    "\n",
    "    return dictionnary, encoded_sequence\n",
    "\n",
    "print(\"Encoding of example given in the course State of the art in data compression, slide 50/53:\\nInitial sequence: 1011010100010\\nDictionnary: {}\\nEncoded sequence: {}\".format(LZ_online(\"1011010100010\")[0], LZ_online(\"1011010100010\")[1]))"
   ]
  },
  {
   "cell_type": "markdown",
   "metadata": {
    "deletable": false,
    "editable": false,
    "id": "UG7cwbf50GUx"
   },
   "source": [
    "### Question 4\n",
    "\n",
    "Implement a function that returns the encoded sequence using the LZ77 algorithm as described by the algorithm below given an input string and a sliding window size l. Reproduce the example given in Figure 2 with window_size=7."
   ]
  },
  {
   "cell_type": "code",
   "execution_count": 5,
   "metadata": {
    "id": "aHoBHPcL0GUy"
   },
   "outputs": [
    {
     "name": "stdout",
     "output_type": "stream",
     "text": [
      "Example given in Figure 2 with window_size = 7: 00a00b00r31c21d74d\n"
     ]
    }
   ],
   "source": [
    "def find_match(sequence, window):\n",
    "    distance = len(window)\n",
    "    matching_string = \"\"\n",
    "\n",
    "    for character in sequence:\n",
    "        matching_string_tmp = matching_string + character\n",
    "        distance_tmp = window.rfind(matching_string_tmp)\n",
    "\n",
    "        if distance_tmp < 0:\n",
    "            break\n",
    "\n",
    "        matching_string = matching_string_tmp\n",
    "        distance = distance_tmp\n",
    "\n",
    "    return len(matching_string), len(window) - distance\n",
    "\n",
    "def LZ77(sequence, window_size = 7):\n",
    "    window = \"\"\n",
    "    result = \"\"\n",
    "\n",
    "    while len(sequence) != 0:\n",
    "        size, distance = find_match(sequence, window)\n",
    "\n",
    "        window += sequence[:size + 1]\n",
    "        window = window[-window_size:]\n",
    "\n",
    "        sequence = sequence[size:]\n",
    "        last_character = sequence[:1]\n",
    "        sequence = sequence[1:]\n",
    "\n",
    "        result += str(distance) + str(size) + str(last_character)\n",
    "\n",
    "    return result\n",
    "\n",
    "print(\"Example given in Figure 2 with window_size = 7: {}\".format(LZ77(\"abracadabrad\")))"
   ]
  },
  {
   "cell_type": "code",
   "execution_count": 6,
   "metadata": {
    "deletable": false,
    "editable": false,
    "id": "EG1vVgUg0GUz"
   },
   "outputs": [],
   "source": [
    "# [Locked Cell] Evaluation of your functions by the examiner. \n",
    "# You don't have access to the evaluation, this will be done by the examiner.\n",
    "# Therefore, this cell will return nothing for the students.\n",
    "import os\n",
    "if os.path.isfile(\"private_evaluation.py\"):\n",
    "    from private_evaluation import unit_tests\n",
    "    unit_tests(Huffman_code, LZ_online, LZ77)"
   ]
  },
  {
   "cell_type": "markdown",
   "metadata": {
    "deletable": false,
    "editable": false,
    "id": "znaBCYTG0GU0"
   },
   "source": [
    "## Source coding and reversible (lossless) data compression\n"
   ]
  },
  {
   "cell_type": "code",
   "execution_count": 7,
   "metadata": {},
   "outputs": [
    {
     "name": "stdout",
     "output_type": "stream",
     "text": [
      "Length of Morse text = 1199290 symbols\n",
      "Length of text = 412310 symbols\n"
     ]
    }
   ],
   "source": [
    "# Read Morse file\n",
    "morseFile = open(\"data/morse.txt\", \"r\")\n",
    "morseText = morseFile.read()\n",
    "morseFile.close()\n",
    "print(\"Length of Morse text = \" + str(len(morseText)) + \" symbols\")\n",
    "\n",
    "# Read text file\n",
    "textFile = open(\"data/text.txt\", \"r\")\n",
    "text = textFile.read()\n",
    "textFile.close()\n",
    "print(\"Length of text = \" + str(len(text)) + \" symbols\")"
   ]
  },
  {
   "cell_type": "markdown",
   "metadata": {},
   "source": [
    "### Question 5"
   ]
  },
  {
   "cell_type": "code",
   "execution_count": 8,
   "metadata": {},
   "outputs": [
    {
     "name": "stdout",
     "output_type": "stream",
     "text": [
      "Probabilities: {'.': 0.43378082031868853, '_': 0.2145202578192097, '-': 0.2870623452209224, '/': 0.06463657664117936}\n",
      "Huffman code: {'.': '0', '/': '100', '_': '101', '-': '11'}\n",
      "Length of encoded morse text = 2213141 bits\n",
      "Length of morse text = 2398580.0 bits\n",
      "Compression rate = 1.0837899618686744\n"
     ]
    }
   ],
   "source": [
    "# Compute marginal probability distribution\n",
    "probas = {}\n",
    "for symbol in morseText:\n",
    "    symb = probas.get(symbol)\n",
    "    if symb == None:\n",
    "        probas[symbol] = 1\n",
    "    else:\n",
    "        probas[symbol] = symb + 1\n",
    "for key in probas.keys():\n",
    "    probas[key]/=len(morseText)\n",
    "\n",
    "print(\"Probabilities: \", end=\"\")\n",
    "print(probas)\n",
    "\n",
    "# Binary Huffman code\n",
    "binHuffmanCode = Huffman_code(probas)\n",
    "print(\"Huffman code: \", end=\"\")\n",
    "print(binHuffmanCode)\n",
    "\n",
    "# Encode text with Huffman code\n",
    "encodedMorseText = \"\"\n",
    "for symbol in morseText:\n",
    "    encodedMorseText+=binHuffmanCode[symbol]\n",
    "#print(encodedMorseText)\n",
    "\n",
    "# Total length of encoded Morse text\n",
    "print(\"Length of encoded morse text = \" + str(len(encodedMorseText)) + \" bits\")\n",
    "# ceil(log_2(4)) = 2 = number of bits for 4 symbols\n",
    "print(\"Length of morse text = \" + str(len(morseText)*np.ceil(np.log2(4))) + \" bits\")\n",
    "\n",
    "# Compression rate\n",
    "compressionRate = (len(morseText)*2)/len(encodedMorseText)\n",
    "print(\"Compression rate = \" + str(compressionRate))"
   ]
  },
  {
   "cell_type": "markdown",
   "metadata": {},
   "source": [
    "### Question 6"
   ]
  },
  {
   "cell_type": "code",
   "execution_count": 9,
   "metadata": {},
   "outputs": [
    {
     "name": "stdout",
     "output_type": "stream",
     "text": [
      "Expected average length of Huffman code = 1.8453760141417006\n",
      "Emperical average length of Huffman code = 1.8453760141417006\n",
      "H(S)/log2(q) = 1.7713848706432271\n",
      "(H(S)/log2(q)) + 1 = 2.771384870643227\n"
     ]
    }
   ],
   "source": [
    "# Expected average length of Huffman code\n",
    "avgLengthHuffman = 0.0\n",
    "for key in probas.keys():\n",
    "    avgLengthHuffman+=probas[key]*len(binHuffmanCode[key])\n",
    "print(\"Expected average length of Huffman code = \" + str(avgLengthHuffman))\n",
    "\n",
    "# Emperical = ratio length encoded and length initial\n",
    "emperical = len(encodedMorseText) / len(morseText)\n",
    "print(\"Emperical average length of Huffman code = \" + str(emperical))\n",
    "\n",
    "# Entropy\n",
    "entropy = 0.0\n",
    "for key in probas.keys():\n",
    "    entropy+=probas[key]*np.log2(probas[key])\n",
    "\n",
    "print(\"H(S)/log2(q) = \" + str(-entropy)) # log2(2) = 1\n",
    "print(\"(H(S)/log2(q)) + 1 = \" + str(-entropy+1))"
   ]
  },
  {
   "cell_type": "markdown",
   "metadata": {},
   "source": [
    "### Question 7"
   ]
  },
  {
   "cell_type": "code",
   "execution_count": 10,
   "metadata": {},
   "outputs": [
    {
     "name": "stdout",
     "output_type": "stream",
     "text": [
      "{1: 1.8453760141417006, 2: 1.709244636409876, 5: 1.5083299285410534, 10: 1.245440218796121, 119929: 2.8350107146728482e-05, 239858: 1.0005920169433581e-05, 599645: 1.6676533615722636e-06}\n"
     ]
    }
   ],
   "source": [
    "# Compute data\n",
    "codes = {}\n",
    "empericalAverages = {}\n",
    "for inputLength in range(1, len(morseText)):\n",
    "    if len(morseText) % inputLength == 0:\n",
    "        indexStart = 0\n",
    "        indexEnd = inputLength - 1\n",
    "        nbBlocks = 0.0\n",
    "        probas = {}\n",
    "        while indexEnd < len(morseText):\n",
    "            subText = morseText[indexStart : indexEnd+1]\n",
    "            symb = probas.get(subText)\n",
    "            if symb == None:\n",
    "                probas[subText] = 1\n",
    "            else:\n",
    "                probas[subText] = symb + 1\n",
    "            nbBlocks+=1.0\n",
    "            indexStart += inputLength\n",
    "            indexEnd += inputLength\n",
    "        for key in probas.keys():\n",
    "            probas[key]/=nbBlocks\n",
    "        codes[inputLength] = Huffman_code(probas)\n",
    "        \n",
    "        encodedMorseText = \"\"\n",
    "        indexStart = 0\n",
    "        indexEnd = inputLength - 1\n",
    "        while indexEnd < len(morseText):\n",
    "            encodedMorseText+=codes[inputLength][morseText[indexStart : indexEnd+1]]\n",
    "            indexStart += inputLength\n",
    "            indexEnd += inputLength\n",
    "        empericalAverages[inputLength] = len(encodedMorseText) / len(morseText)\n",
    "print(empericalAverages)"
   ]
  },
  {
   "cell_type": "markdown",
   "metadata": {},
   "source": [
    "### Question 11"
   ]
  },
  {
   "cell_type": "code",
   "execution_count": 11,
   "metadata": {},
   "outputs": [
    {
     "name": "stdout",
     "output_type": "stream",
     "text": [
      "Length of encoded morse text = 2769904 bits\n",
      "Compression rate = 0.8659433684344295\n"
     ]
    }
   ],
   "source": [
    "def LZ77_Huffman(sequence, window_size):\n",
    "    LZ77_seq = LZ77(sequence, window_size = window_size)\n",
    "    triplets = []\n",
    "    triplet = \"\"\n",
    "\n",
    "    for i, character in enumerate(LZ77_seq):\n",
    "        if i != 0 and not i % 3:\n",
    "            triplets.append(triplet)\n",
    "            triplet = \"\"\n",
    "\n",
    "        triplet += character\n",
    "        i += 1\n",
    "\n",
    "    values, counts = np.unique(triplets, return_counts = True, axis = 0)\n",
    "\n",
    "    probabilities = counts / sum(counts)\n",
    "    dictionnary = dict(zip(values, probabilities))\n",
    "\n",
    "    code = Huffman_code(dictionnary)\n",
    "\n",
    "    encodedMorseText = ''\n",
    "\n",
    "    for triplet in triplets:\n",
    "        encodedMorseText += code[triplet]\n",
    "\n",
    "    return encodedMorseText\n",
    "    \n",
    "encodedMorseText = LZ77_Huffman(morseText, 7)\n",
    "compressionRate = (len(morseText) * 2) / len(encodedMorseText)\n",
    "print(\"Length of encoded morse text = {} bits\".format(str(len(encodedMorseText))))\n",
    "print(\"Compression rate = {}\".format(str(compressionRate)))"
   ]
  },
  {
   "cell_type": "markdown",
   "metadata": {},
   "source": [
    "### Question 12"
   ]
  },
  {
   "cell_type": "code",
   "execution_count": 30,
   "metadata": {},
   "outputs": [
    {
     "name": "stdout",
     "output_type": "stream",
     "text": [
      "Lengths\n",
      "Huffman combined with LZ77\n",
      "Window size: 1, length: 2574093 bits\n",
      "Window size: 1001, length: 2227673 bits\n",
      "Window size: 2001, length: 2103336 bits\n",
      "Window size: 3001, length: 2038045 bits\n",
      "Window size: 4001, length: 1992454 bits\n",
      "Window size: 5001, length: 1957754 bits\n",
      "Window size: 6001, length: 1928162 bits\n",
      "Window size: 7001, length: 1903170 bits\n",
      "Window size: 8001, length: 1882121 bits\n",
      "Window size: 9001, length: 1864961 bits\n",
      "Window size: 10001, length: 1848255 bits\n",
      "Window size: 11001, length: 1840006 bits\n",
      "LZ77\n",
      "Window size: 1, length: 3965216 bits\n",
      "Window size: 1001, length: 2703888 bits\n",
      "Window size: 2001, length: 2564544 bits\n",
      "Window size: 3001, length: 2580890 bits\n",
      "Window size: 4001, length: 2454972 bits\n",
      "Window size: 5001, length: 2546684 bits\n",
      "Window size: 6001, length: 2469908 bits\n",
      "Window size: 7001, length: 2407188 bits\n",
      "Window size: 8001, length: 2355836 bits\n",
      "Window size: 9001, length: 2478390 bits\n",
      "Window size: 10001, length: 2435940 bits\n",
      "Window size: 11001, length: 2400840 bits\n",
      "LZ online\n",
      "Length: 1530401 bits\n",
      "\n",
      "Compression rates\n",
      "Huffman combined with LZ77\n",
      "Window size: 1, compression rate: 0.9318155948522451\n",
      "Window size: 1001, compression rate: 1.0767199674278944\n",
      "Window size: 2001, compression rate: 1.1403693941433988\n",
      "Window size: 3001, compression rate: 1.1769023745795604\n",
      "Window size: 4001, compression rate: 1.203832058356178\n",
      "Window size: 5001, compression rate: 1.225169250069212\n",
      "Window size: 6001, compression rate: 1.2439722388471508\n",
      "Window size: 7001, compression rate: 1.2603078022457268\n",
      "Window size: 8001, compression rate: 1.274402655302183\n",
      "Window size: 9001, compression rate: 1.2861287715936152\n",
      "Window size: 10001, compression rate: 1.2977538272586846\n",
      "Window size: 11001, compression rate: 1.3035718361787951\n",
      "LZ77\n",
      "Window size: 1, compression rate: 0.6049052561071074\n",
      "Window size: 1001, compression rate: 0.8870855597569131\n",
      "Window size: 2001, compression rate: 0.9352851813031868\n",
      "Window size: 3001, compression rate: 0.9293615768203992\n",
      "Window size: 4001, compression rate: 0.9770294732485747\n",
      "Window size: 5001, compression rate: 0.9418443748812181\n",
      "Window size: 6001, compression rate: 0.971121191558552\n",
      "Window size: 7001, compression rate: 0.9964240433235793\n",
      "Window size: 8001, compression rate: 1.0181438775874043\n",
      "Window size: 9001, compression rate: 0.9677976428245756\n",
      "Window size: 10001, compression rate: 0.9846630048359155\n",
      "Window size: 11001, compression rate: 0.9990586628013529\n",
      "LZ online\n",
      "Compression rate: 1.567288573386975\n"
     ]
    }
   ],
   "source": [
    "lengthsLZ77Huffman = []\n",
    "compressionRatesLZ77Huffman = []\n",
    "\n",
    "lengthsLZ77 = []\n",
    "compressionRatesLZ77 = []\n",
    "\n",
    "for window_size in range(1, 12001, 1000):\n",
    "    encodedMorseTextLZ77Huffman = LZ77_Huffman(morseText, window_size)\n",
    "    encodedMorseTextLZ77 = LZ77(morseText, window_size)\n",
    "\n",
    "    lengthLZ77Huffman = len(encodedMorseTextLZ77Huffman)\n",
    "    lengthsLZ77Huffman.append([window_size, lengthLZ77Huffman])\n",
    "\n",
    "    compressionRateLZ77Huffman = (len(morseText) * 2) / len(encodedMorseTextLZ77Huffman)\n",
    "    compressionRatesLZ77Huffman.append([window_size, compressionRateLZ77Huffman])\n",
    "\n",
    "    tripletNumber = 0\n",
    "\n",
    "    for symbol in encodedMorseTextLZ77:\n",
    "        if symbol in \"-_/.\":\n",
    "            tripletNumber += 1\n",
    "    \n",
    "    lengthsLZ77.append([window_size, int(tripletNumber * (2 * np.ceil(np.log2(window_size + 1)) + 2))])\n",
    "\n",
    "    compressionRateLZ77 = (len(morseText) * 2) / int(tripletNumber * (2 * np.ceil(np.log2(window_size + 1)) + 2))\n",
    "    compressionRatesLZ77.append([window_size, compressionRateLZ77])\n",
    "\n",
    "encodedLZOnline = LZ_online(morseText)[1]\n",
    "\n",
    "print(\"Lengths\")\n",
    "print(\"Huffman combined with LZ77\")\n",
    "for pair in lengthsLZ77Huffman : print(\"Window size: {}, length: {} bits\".format(pair[0], pair[1]))\n",
    "print(\"LZ77\")\n",
    "for pair in lengthsLZ77 : print(\"Window size: {}, length: {} bits\".format(pair[0], pair[1]))\n",
    "print(\"LZ online\")\n",
    "print(\"Length: {} bits\\n\".format(len(encodedLZOnline)))\n",
    "\n",
    "print(\"Compression rates\")\n",
    "print(\"Huffman combined with LZ77\")\n",
    "for pair in compressionRatesLZ77Huffman : print(\"Window size: {}, compression rate: {}\".format(pair[0], pair[1]))\n",
    "print(\"LZ77\")\n",
    "for pair in compressionRatesLZ77 : print(\"Window size: {}, compression rate: {}\".format(pair[0], pair[1]))\n",
    "print(\"LZ online\")\n",
    "print(\"Compression rate: {}\".format((len(morseText) * 2) / len(encodedLZOnline)))"
   ]
  },
  {
   "cell_type": "markdown",
   "metadata": {},
   "source": [
    "### Question 14"
   ]
  },
  {
   "cell_type": "code",
   "execution_count": 13,
   "metadata": {},
   "outputs": [
    {
     "name": "stdout",
     "output_type": "stream",
     "text": [
      "{'g': '00000', 'u': '00001', 's': '0001', 'e': '001', 'i': '0100', 'r': '0101', 'n': '0110', 'h': '0111', 'b': '100000', 'p': '100001', 'c': '100010', 'f': '100011', 'o': '1001', 'a': '1010', 't': '1011', 'l': '11000', 'm': '110010', 'k': '1100110', 'z': '1100111000', 'j': '1100111001', 'x': '1100111010', 'q': '1100111011', 'v': '11001111', 'd': '11010', 'w': '110110', 'y': '110111', ' ': '111'}\n",
      "Expected average length of Huffman code = 4.150466881715214\n",
      "Experimental length of encoded text = 1711279 bits\n",
      "Compression rate = 1.2046837482374295\n"
     ]
    }
   ],
   "source": [
    "# Compute probability distribution\n",
    "probas = {}\n",
    "for letter in text:\n",
    "    proba = probas.get(letter)\n",
    "    if proba == None:\n",
    "        probas[letter] = 1\n",
    "    else:\n",
    "        probas[letter] = proba + 1\n",
    "for letter in probas:\n",
    "    probas[letter]/=len(text)\n",
    "\n",
    "# Binary Huffman code\n",
    "code = Huffman_code(probas)\n",
    "print(code)\n",
    "\n",
    "# Expected average length\n",
    "avgLengthHuffman = 0.0\n",
    "for key in probas.keys():\n",
    "    avgLengthHuffman+=probas[key]*len(code[key])\n",
    "print(\"Expected average length of Huffman code = \" + str(avgLengthHuffman))\n",
    "\n",
    "encodedText = \"\"\n",
    "for symbol in text:\n",
    "    encodedText+=code[symbol]\n",
    "\n",
    "# Experimental length of the encoded text\n",
    "length = len(encodedText)\n",
    "print(\"Experimental length of encoded text = \" + str(length) + \" bits\")\n",
    "\n",
    "# Compression rate\n",
    "# ceil(log_2(27)) = 5 = number of bits for 27 symbols\n",
    "compressionRate = (len(text)*np.ceil(np.log2(27)))/len(encodedText)\n",
    "print(\"Compression rate = \" + str(compressionRate))"
   ]
  },
  {
   "cell_type": "markdown",
   "metadata": {
    "id": "arr1rcE65c6K"
   },
   "source": [
    "## Channel coding"
   ]
  },
  {
   "cell_type": "code",
   "execution_count": 14,
   "metadata": {
    "id": "ZLwLdqlh5qE5"
   },
   "outputs": [],
   "source": [
    "# Write here your codes for questions 16 to 21 (you may delete this comment)\n",
    "# From here, you may import either opencv (cv2) or the Python Imaging Library (PIL), but no other extra libraries.\n",
    "import cv2\n",
    "\n",
    "# TO REMOVE before submit\n",
    "%matplotlib inline\n",
    "from matplotlib import pyplot as plt"
   ]
  },
  {
   "cell_type": "markdown",
   "metadata": {},
   "source": [
    "### Question 16"
   ]
  },
  {
   "cell_type": "code",
   "execution_count": 15,
   "metadata": {},
   "outputs": [
    {
     "data": {
      "image/png": "[encoded data removed]",
      "text/plain": [
       "<Figure size 432x288 with 1 Axes>"
      ]
     },
     "metadata": {
      "needs_background": "light"
     },
     "output_type": "display_data"
    },
    {
     "name": "stdout",
     "output_type": "stream",
     "text": [
      "Image height = 1116px\n",
      "Image width = 1984px\n"
     ]
    }
   ],
   "source": [
    "\"\"\"\n",
    "Read image located at path and show it.\n",
    "Parameters:\n",
    "    - path: Path to the image.\n",
    "Return:\n",
    "Image that has been read.\n",
    "\"\"\"\n",
    "def read_and_show_img(path: str):\n",
    "    image = cv2.imread(path, cv2.IMREAD_GRAYSCALE)\n",
    "    # For test - TO REMOVE\n",
    "    plt.imshow(image, cmap='gray', vmin=0, vmax=255)\n",
    "    plt.show()\n",
    "    ''' CODE FOR SUBMIT\n",
    "    cv2.imshow(\"Image\", image)\n",
    "    cv2.waitKey(0)\n",
    "    cv2.destroyAllWindows()\n",
    "    '''\n",
    "    return image\n",
    "image = read_and_show_img(\"data/image.png\")\n",
    "height = len(image)\n",
    "width = len(image[0])\n",
    "print(\"Image height = \" + str(height) + \"px\")\n",
    "print(\"Image width = \" + str(width) + \"px\")"
   ]
  },
  {
   "cell_type": "markdown",
   "metadata": {},
   "source": [
    "### Question 17"
   ]
  },
  {
   "cell_type": "code",
   "execution_count": 16,
   "metadata": {},
   "outputs": [],
   "source": [
    "\"\"\"\n",
    "Encode the image signal using a fixed-length binary code.\n",
    "Parameters:\n",
    "    - image: Image to encode.\n",
    "Return:\n",
    "List of strings where each string is the binary representation of a pixel from left to right and top to bottom.\n",
    "\"\"\"\n",
    "def encodeImage(image) -> list:\n",
    "    encoded = []\n",
    "    for row in image:\n",
    "        for pixel in row:\n",
    "            encoded.append(np.binary_repr(pixel, width=8)) # 8 because log_2(256) = 8\n",
    "\n",
    "    return encoded\n",
    "\n",
    "imageSignal = encodeImage(image)"
   ]
  },
  {
   "cell_type": "markdown",
   "metadata": {},
   "source": [
    "### Question 18"
   ]
  },
  {
   "cell_type": "code",
   "execution_count": 17,
   "metadata": {},
   "outputs": [
    {
     "ename": "KeyboardInterrupt",
     "evalue": "",
     "output_type": "error",
     "traceback": [
      "\u001b[0;31m---------------------------------------------------------------------------\u001b[0m",
      "\u001b[0;31mKeyboardInterrupt\u001b[0m                         Traceback (most recent call last)",
      "\u001b[1;32m/home/olivierjoris/Documents/Projets/ELEN0060/ELEN0060-Project2/s180521s182113.ipynb Cell 32'\u001b[0m in \u001b[0;36m<module>\u001b[0;34m\u001b[0m\n\u001b[1;32m      <a href='vscode-notebook-cell:/home/olivierjoris/Documents/Projets/ELEN0060/ELEN0060-Project2/s180521s182113.ipynb#ch0000031?line=6'>7</a>\u001b[0m px \u001b[39m=\u001b[39m \u001b[39m\"\u001b[39m\u001b[39m\"\u001b[39m\n\u001b[1;32m      <a href='vscode-notebook-cell:/home/olivierjoris/Documents/Projets/ELEN0060/ELEN0060-Project2/s180521s182113.ipynb#ch0000031?line=7'>8</a>\u001b[0m \u001b[39mfor\u001b[39;00m bit \u001b[39min\u001b[39;00m pixel:\n\u001b[0;32m----> <a href='vscode-notebook-cell:/home/olivierjoris/Documents/Projets/ELEN0060/ELEN0060-Project2/s180521s182113.ipynb#ch0000031?line=8'>9</a>\u001b[0m     \u001b[39mif\u001b[39;00m np\u001b[39m.\u001b[39;49mrandom\u001b[39m.\u001b[39;49muniform(\u001b[39m0.0\u001b[39;49m, \u001b[39m1.0\u001b[39;49m, \u001b[39m1\u001b[39;49m)[\u001b[39m0\u001b[39;49m] \u001b[39m<\u001b[39m\u001b[39m=\u001b[39m ERROR_RATE:\n\u001b[1;32m     <a href='vscode-notebook-cell:/home/olivierjoris/Documents/Projets/ELEN0060/ELEN0060-Project2/s180521s182113.ipynb#ch0000031?line=9'>10</a>\u001b[0m         \u001b[39mif\u001b[39;00m bit \u001b[39m==\u001b[39m \u001b[39m'\u001b[39m\u001b[39m1\u001b[39m\u001b[39m'\u001b[39m:\n\u001b[1;32m     <a href='vscode-notebook-cell:/home/olivierjoris/Documents/Projets/ELEN0060/ELEN0060-Project2/s180521s182113.ipynb#ch0000031?line=10'>11</a>\u001b[0m             px\u001b[39m+\u001b[39m\u001b[39m=\u001b[39m\u001b[39m'\u001b[39m\u001b[39m0\u001b[39m\u001b[39m'\u001b[39m\n",
      "\u001b[0;31mKeyboardInterrupt\u001b[0m: "
     ]
    }
   ],
   "source": [
    "# Simulate the channel effect on the binary image signal\n",
    "ERROR_RATE = 0.01\n",
    "\n",
    "# Simulate potential errors\n",
    "imageAfterChannel = []\n",
    "for pixel in imageSignal:\n",
    "    px = \"\"\n",
    "    for bit in pixel:\n",
    "        if np.random.uniform(0.0, 1.0, 1)[0] <= ERROR_RATE:\n",
    "            if bit == '1':\n",
    "                px+='0'\n",
    "            else:\n",
    "                px+='1'\n",
    "        else:\n",
    "            px+=bit\n",
    "    imageAfterChannel.append(px)\n",
    "\n",
    "# Save image\n",
    "imageAfter = image.copy()\n",
    "rowIndex = 0\n",
    "colIndex = 0\n",
    "for pixel in imageAfterChannel:\n",
    "    imageAfter[rowIndex][colIndex] = int(pixel, 2)\n",
    "    colIndex+=1\n",
    "    if colIndex >= width:\n",
    "        colIndex = 0\n",
    "        rowIndex+=1\n",
    "cv2.imwrite(\"q18.png\", imageAfter)\n",
    "\n",
    "# Show image\n",
    "read_and_show_img(\"q18.png\")"
   ]
  },
  {
   "cell_type": "markdown",
   "metadata": {},
   "source": [
    "### Question 19"
   ]
  },
  {
   "cell_type": "code",
   "execution_count": null,
   "metadata": {},
   "outputs": [],
   "source": [
    "\"\"\"\n",
    "Compute the Hamming(7,4) code for a list of pixels.\n",
    "Parameters:\n",
    "    - pixels: List of pixels where each pixel is represented by a string of its binary representation.\n",
    "Return:\n",
    "Hamming(7,4) code for the list of pixels as a string.\n",
    "\"\"\"\n",
    "def Hamming_7_4(pixels: list) -> str:\n",
    "\n",
    "    \"\"\"\n",
    "    Compute the Hamming(7,4) code for 4 bits (half a pixel).\n",
    "    Parameter: 4 bits as a string.\n",
    "    Return: Hamming(7,4) code for the 4 bits.\n",
    "    \"\"\"\n",
    "    def pixelCode(halfPixel: str) -> str:\n",
    "        code = halfPixel\n",
    "        m0 = int(halfPixel[0], 2)\n",
    "        m1 = int(halfPixel[1], 2)\n",
    "        m2 = int(halfPixel[2], 2)\n",
    "        m3 = int(halfPixel[3], 2)\n",
    "        code += str((m0+m1+m2)%2)\n",
    "        code += str((m1+m2+m3)%2)\n",
    "        code += str((m0+m2+m3)%2)\n",
    "        return code\n",
    "\n",
    "    encoded = \"\"\n",
    "    for pixel in pixels:\n",
    "        halfLeft = pixel[0:4]\n",
    "        halfRight = pixel[4:8]\n",
    "        encoded += pixelCode(halfLeft)\n",
    "        encoded += pixelCode(halfRight)\n",
    "\n",
    "    return encoded\n",
    "\n",
    "HammingSignal = Hamming_7_4(imageSignal)\n"
   ]
  },
  {
   "cell_type": "markdown",
   "metadata": {},
   "source": [
    "### Question 20"
   ]
  },
  {
   "cell_type": "code",
   "execution_count": null,
   "metadata": {},
   "outputs": [],
   "source": [
    "# Simulate the channel effect on the binary signal with redundancy\n",
    "ERROR_RATE = 0.01\n",
    "HammingAfterChannel = \"\"\n",
    "for bit in HammingSignal:\n",
    "    px = \"\"\n",
    "    if np.random.uniform(0.0, 1.0, 1)[0] <= ERROR_RATE:\n",
    "        if bit == '1':\n",
    "            px='0'\n",
    "        else:\n",
    "            px='1'\n",
    "    else:\n",
    "        px=bit\n",
    "    HammingAfterChannel+=px"
   ]
  },
  {
   "cell_type": "code",
   "execution_count": null,
   "metadata": {},
   "outputs": [],
   "source": [
    "# Decode after simulating channel\n",
    "\"\"\"\n",
    "Decode a Hamming(7,4) chunk (7 bits). Apply syndrome decoding.\n",
    "Parameter:\n",
    "    - chunk: A Hamming(7,4) chunk (7 bits) as a string.\n",
    "Return:\n",
    "The 4 source bits as a string.\n",
    "\"\"\"\n",
    "def decode(chunk: str) -> str:\n",
    "    m0, m1, m2, m3 = int(chunk[0], 2), int(chunk[1], 2), int(chunk[2], 2), int(chunk[3], 2)\n",
    "    p1 = (m0+m1+m2)%2\n",
    "    p2 = (m1+m2+m3)%2\n",
    "    p3 = (m0+m2+m3)%2\n",
    "\n",
    "    check1 = (p1 + int(chunk[4]))%2\n",
    "    check2 = (p2 + int(chunk[5]))%2\n",
    "    check3 = (p3 + int(chunk[6]))%2\n",
    "\n",
    "    # 2 or 3 parity bits are different -> error in one of the source bits\n",
    "    if check1 + check2 + check3 >= 2:\n",
    "        if check1 and check1 and not check3:\n",
    "            str1 = \"1\" if m1 == 0 else \"0\"\n",
    "            return chunk[0]+str1+chunk[2]+chunk[3]\n",
    "        elif not check1 and check2 and check3:\n",
    "            str3 = \"1\" if m3 == 0 else \"0\"\n",
    "            return chunk[0]+chunk[1]+chunk[2]+str3\n",
    "        elif check1 and not check2 and check3:\n",
    "            str0 = \"1\" if m0 == 0 else \"0\"\n",
    "            return str0+chunk[1]+chunk[2]+chunk[3]\n",
    "        else:\n",
    "            str2 = \"1\" if m2 == 0 else \"0\"\n",
    "            return chunk[0]+chunk[1]+str2+chunk[3]\n",
    "    else: # 0 or 1 bit is different -> no error or error in parity bit -> do not care\n",
    "        return chunk[0]+chunk[1]+chunk[2]+chunk[3]\n",
    "\n",
    "indexBegin, indexEnd = 0, 6\n",
    "nbBits = len(HammingAfterChannel)\n",
    "decoded = \"\"\n",
    "while indexEnd < nbBits:\n",
    "    halfPixel = decode(HammingAfterChannel[indexBegin : indexEnd+1])\n",
    "    decoded+=halfPixel\n",
    "    indexBegin+=7\n",
    "    indexEnd+=7"
   ]
  },
  {
   "cell_type": "code",
   "execution_count": null,
   "metadata": {},
   "outputs": [
    {
     "data": {
      "image/png": "[encoded data removed]",
      "text/plain": [
       "<Figure size 432x288 with 1 Axes>"
      ]
     },
     "metadata": {
      "needs_background": "light"
     },
     "output_type": "display_data"
    },
    {
     "data": {
      "text/plain": [
       "array([[ 78,  81,  83, ..., 228, 234, 238],\n",
       "       [ 79,  81,  82, ..., 228, 233, 237],\n",
       "       [ 81,  81,  81, ..., 227, 232, 236],\n",
       "       ...,\n",
       "       [ 70,  68,  65, ..., 139, 115,  92],\n",
       "       [ 67,  65,  63, ..., 141, 118,  95],\n",
       "       [ 64,  63,  62, ..., 142, 120,  96]], dtype=uint8)"
      ]
     },
     "execution_count": 28,
     "metadata": {},
     "output_type": "execute_result"
    }
   ],
   "source": [
    "# Display decoded image\n",
    "imageHammingDecoded = image.copy()\n",
    "rowIndex, colIndex = 0, 0\n",
    "indexBegin, indexEnd = 0, 7\n",
    "nbBits = len(decoded)\n",
    "while indexEnd < nbBits:\n",
    "    imageHammingDecoded[rowIndex][colIndex] = int(decoded[indexBegin : indexEnd+1], 2)\n",
    "    indexBegin+=8\n",
    "    indexEnd+=8\n",
    "    colIndex+=1\n",
    "    if colIndex >= width:\n",
    "        colIndex = 0\n",
    "        rowIndex+=1\n",
    "\n",
    "cv2.imwrite(\"q20.png\", imageHammingDecoded)\n",
    "\n",
    "# Show image\n",
    "read_and_show_img(\"q20.png\")"
   ]
  },
  {
   "cell_type": "code",
   "execution_count": null,
   "metadata": {},
   "outputs": [],
   "source": []
  }
 ],
 "metadata": {
  "celltoolbar": "Edit Metadata",
  "colab": {
   "collapsed_sections": [],
   "name": "P2 - Notebook.ipynb",
   "provenance": []
  },
  "kernelspec": {
   "display_name": "Python 3 (ipykernel)",
   "language": "python",
   "name": "python3"
  },
  "language_info": {
   "codemirror_mode": {
    "name": "ipython",
    "version": 3
   },
   "file_extension": ".py",
   "mimetype": "text/x-python",
   "name": "python",
   "nbconvert_exporter": "python",
   "pygments_lexer": "ipython3",
   "version": "3.9.7"
  }
 },
 "nbformat": 4,
 "nbformat_minor": 4
}
